{
 "cells": [
  {
   "cell_type": "code",
   "execution_count": 62,
   "metadata": {},
   "outputs": [],
   "source": [
    "import warnings\n",
    "warnings.filterwarnings('ignore')\n",
    "import os\n",
    "import shutil\n",
    "\n",
    "import numpy as np\n",
    "import pandas as pd\n",
    "import scipy as sp\n",
    "# Visualisation\n",
    "import matplotlib as mpl\n",
    "import matplotlib.pyplot as plt\n",
    "import matplotlib.pylab as pylab\n",
    "import seaborn as sns\n",
    "import plotly\n",
    "import plotly.graph_objs as go\n",
    "from scipy import stats\n",
    "from sklearn.preprocessing import MinMaxScaler\n",
    "import pingouin as pg\n",
    "import csv\n",
    "import scipy.fftpack\n",
    "import math"
   ]
  },
  {
   "cell_type": "code",
   "execution_count": 456,
   "metadata": {},
   "outputs": [],
   "source": [
    "tap = pd.read_csv('C:\\\\Users\\\\Dan\\\\Desktop\\\\TUD4thyear\\\\fyp\\\\6050\\\\dataset\\\\csv\\\\tap50mag.csv')\n",
    "shuf = pd.read_csv('C:\\\\Users\\\\Dan\\\\Desktop\\\\TUD4thyear\\\\fyp\\\\6050\\\\shuf(2).csv')"
   ]
  },
  {
   "cell_type": "code",
   "execution_count": 457,
   "metadata": {
    "scrolled": true
   },
   "outputs": [
    {
     "data": {
      "text/html": [
       "<div>\n",
       "<style scoped>\n",
       "    .dataframe tbody tr th:only-of-type {\n",
       "        vertical-align: middle;\n",
       "    }\n",
       "\n",
       "    .dataframe tbody tr th {\n",
       "        vertical-align: top;\n",
       "    }\n",
       "\n",
       "    .dataframe thead th {\n",
       "        text-align: right;\n",
       "    }\n",
       "</style>\n",
       "<table border=\"1\" class=\"dataframe\">\n",
       "  <thead>\n",
       "    <tr style=\"text-align: right;\">\n",
       "      <th></th>\n",
       "      <th>Magnitude</th>\n",
       "    </tr>\n",
       "  </thead>\n",
       "  <tbody>\n",
       "    <tr>\n",
       "      <th>count</th>\n",
       "      <td>17329.000000</td>\n",
       "    </tr>\n",
       "    <tr>\n",
       "      <th>mean</th>\n",
       "      <td>15426.830041</td>\n",
       "    </tr>\n",
       "    <tr>\n",
       "      <th>std</th>\n",
       "      <td>5794.851908</td>\n",
       "    </tr>\n",
       "    <tr>\n",
       "      <th>min</th>\n",
       "      <td>0.000000</td>\n",
       "    </tr>\n",
       "    <tr>\n",
       "      <th>25%</th>\n",
       "      <td>13806.243805</td>\n",
       "    </tr>\n",
       "    <tr>\n",
       "      <th>50%</th>\n",
       "      <td>14247.971926</td>\n",
       "    </tr>\n",
       "    <tr>\n",
       "      <th>75%</th>\n",
       "      <td>14826.632254</td>\n",
       "    </tr>\n",
       "    <tr>\n",
       "      <th>max</th>\n",
       "      <td>56755.840862</td>\n",
       "    </tr>\n",
       "  </tbody>\n",
       "</table>\n",
       "</div>"
      ],
      "text/plain": [
       "          Magnitude\n",
       "count  17329.000000\n",
       "mean   15426.830041\n",
       "std     5794.851908\n",
       "min        0.000000\n",
       "25%    13806.243805\n",
       "50%    14247.971926\n",
       "75%    14826.632254\n",
       "max    56755.840862"
      ]
     },
     "execution_count": 457,
     "metadata": {},
     "output_type": "execute_result"
    }
   ],
   "source": [
    "tap.describe()"
   ]
  },
  {
   "cell_type": "code",
   "execution_count": 697,
   "metadata": {},
   "outputs": [
    {
     "data": {
      "text/html": [
       "<div>\n",
       "<style scoped>\n",
       "    .dataframe tbody tr th:only-of-type {\n",
       "        vertical-align: middle;\n",
       "    }\n",
       "\n",
       "    .dataframe tbody tr th {\n",
       "        vertical-align: top;\n",
       "    }\n",
       "\n",
       "    .dataframe thead th {\n",
       "        text-align: right;\n",
       "    }\n",
       "</style>\n",
       "<table border=\"1\" class=\"dataframe\">\n",
       "  <thead>\n",
       "    <tr style=\"text-align: right;\">\n",
       "      <th></th>\n",
       "      <th>Magnitude</th>\n",
       "    </tr>\n",
       "  </thead>\n",
       "  <tbody>\n",
       "    <tr>\n",
       "      <th>count</th>\n",
       "      <td>17329.000000</td>\n",
       "    </tr>\n",
       "    <tr>\n",
       "      <th>mean</th>\n",
       "      <td>15426.830041</td>\n",
       "    </tr>\n",
       "    <tr>\n",
       "      <th>std</th>\n",
       "      <td>5794.851908</td>\n",
       "    </tr>\n",
       "    <tr>\n",
       "      <th>min</th>\n",
       "      <td>0.000000</td>\n",
       "    </tr>\n",
       "    <tr>\n",
       "      <th>25%</th>\n",
       "      <td>13806.243805</td>\n",
       "    </tr>\n",
       "    <tr>\n",
       "      <th>50%</th>\n",
       "      <td>14247.971926</td>\n",
       "    </tr>\n",
       "    <tr>\n",
       "      <th>75%</th>\n",
       "      <td>14826.632254</td>\n",
       "    </tr>\n",
       "    <tr>\n",
       "      <th>max</th>\n",
       "      <td>56755.840862</td>\n",
       "    </tr>\n",
       "  </tbody>\n",
       "</table>\n",
       "</div>"
      ],
      "text/plain": [
       "          Magnitude\n",
       "count  17329.000000\n",
       "mean   15426.830041\n",
       "std     5794.851908\n",
       "min        0.000000\n",
       "25%    13806.243805\n",
       "50%    14247.971926\n",
       "75%    14826.632254\n",
       "max    56755.840862"
      ]
     },
     "execution_count": 697,
     "metadata": {},
     "output_type": "execute_result"
    }
   ],
   "source": [
    "tap.describe()"
   ]
  },
  {
   "cell_type": "code",
   "execution_count": null,
   "metadata": {},
   "outputs": [],
   "source": [
    "for c in tap:\n",
    "    plt.figure(figsize=(10,5))\n",
    "    plt.title(\"Sensor data distribution for tapping and shuffling overlay\")\n",
    "    sns.distplot(shuf, label='shuffling')\n",
    "    sns.distplot(tap, label='tapping')\n",
    "    plt.legend()\n",
    "    plt.show()"
   ]
  },
  {
   "cell_type": "code",
   "execution_count": 770,
   "metadata": {},
   "outputs": [],
   "source": [
    "i=0\n",
    "x=0\n",
    "y=334\n",
    "for c in range(17000):    \n",
    "    globals()[\"mean\"+str(x)]=tap[i:y].mean()\n",
    "    globals()[\"std\"+str(x)]=tap[i:y].std()      \n",
    "    x=x+1\n",
    "    i=i+334\n",
    "    y=y+334"
   ]
  },
  {
   "cell_type": "code",
   "execution_count": 769,
   "metadata": {},
   "outputs": [],
   "source": [
    "i=0\n",
    "x=0\n",
    "y=334\n",
    "final = pd.DataFrame(columns=['mean','std'])\n",
    "for c in range(52):        \n",
    "    final.loc[x] = [globals()[\"mean\"+str(x)][\"Magnitude\"]] + [globals()[\"std\"+str(x)][\"Magnitude\"]]\n",
    "    x=x+1"
   ]
  },
  {
   "cell_type": "code",
   "execution_count": 732,
   "metadata": {},
   "outputs": [
    {
     "ename": "ValueError",
     "evalue": "The truth value of a Series is ambiguous. Use a.empty, a.bool(), a.item(), a.any() or a.all().",
     "output_type": "error",
     "traceback": [
      "\u001b[1;31m---------------------------------------------------------------------------\u001b[0m",
      "\u001b[1;31mValueError\u001b[0m                                Traceback (most recent call last)",
      "\u001b[1;32m<ipython-input-732-facf4472a8dd>\u001b[0m in \u001b[0;36m<module>\u001b[1;34m\u001b[0m\n\u001b[0;32m      2\u001b[0m \u001b[0mx\u001b[0m\u001b[1;33m=\u001b[0m\u001b[1;36m0\u001b[0m\u001b[1;33m\u001b[0m\u001b[1;33m\u001b[0m\u001b[0m\n\u001b[0;32m      3\u001b[0m \u001b[1;32mfor\u001b[0m \u001b[0mc\u001b[0m \u001b[1;32min\u001b[0m \u001b[0mrange\u001b[0m\u001b[1;33m(\u001b[0m\u001b[1;36m1700\u001b[0m\u001b[1;33m)\u001b[0m\u001b[1;33m:\u001b[0m\u001b[1;33m\u001b[0m\u001b[1;33m\u001b[0m\u001b[0m\n\u001b[1;32m----> 4\u001b[1;33m     \u001b[1;32mif\u001b[0m \u001b[0mtap\u001b[0m\u001b[1;33m[\u001b[0m\u001b[1;34m'Magnitude'\u001b[0m\u001b[1;33m]\u001b[0m\u001b[1;33m[\u001b[0m\u001b[0mi\u001b[0m\u001b[1;33m:\u001b[0m\u001b[0my\u001b[0m\u001b[1;33m]\u001b[0m\u001b[1;33m>\u001b[0m\u001b[1;36m30000\u001b[0m\u001b[1;33m:\u001b[0m\u001b[1;33m\u001b[0m\u001b[1;33m\u001b[0m\u001b[0m\n\u001b[0m\u001b[0;32m      5\u001b[0m          \u001b[0mglobals\u001b[0m\u001b[1;33m(\u001b[0m\u001b[1;33m)\u001b[0m\u001b[1;33m[\u001b[0m\u001b[1;34m\"mag\"\u001b[0m\u001b[1;33m+\u001b[0m\u001b[0mstr\u001b[0m\u001b[1;33m(\u001b[0m\u001b[0mx\u001b[0m\u001b[1;33m)\u001b[0m\u001b[1;33m]\u001b[0m \u001b[1;33m=\u001b[0m \u001b[1;36m1\u001b[0m\u001b[1;33m\u001b[0m\u001b[1;33m\u001b[0m\u001b[0m\n\u001b[0;32m      6\u001b[0m          \u001b[0mx\u001b[0m\u001b[1;33m=\u001b[0m\u001b[0mx\u001b[0m\u001b[1;33m+\u001b[0m\u001b[1;36m1\u001b[0m\u001b[1;33m\u001b[0m\u001b[1;33m\u001b[0m\u001b[0m\n",
      "\u001b[1;32mc:\\users\\dan\\appdata\\local\\programs\\python\\python39\\lib\\site-packages\\pandas\\core\\generic.py\u001b[0m in \u001b[0;36m__nonzero__\u001b[1;34m(self)\u001b[0m\n\u001b[0;32m   1439\u001b[0m     \u001b[1;33m@\u001b[0m\u001b[0mfinal\u001b[0m\u001b[1;33m\u001b[0m\u001b[1;33m\u001b[0m\u001b[0m\n\u001b[0;32m   1440\u001b[0m     \u001b[1;32mdef\u001b[0m \u001b[0m__nonzero__\u001b[0m\u001b[1;33m(\u001b[0m\u001b[0mself\u001b[0m\u001b[1;33m)\u001b[0m\u001b[1;33m:\u001b[0m\u001b[1;33m\u001b[0m\u001b[1;33m\u001b[0m\u001b[0m\n\u001b[1;32m-> 1441\u001b[1;33m         raise ValueError(\n\u001b[0m\u001b[0;32m   1442\u001b[0m             \u001b[1;34mf\"The truth value of a {type(self).__name__} is ambiguous. \"\u001b[0m\u001b[1;33m\u001b[0m\u001b[1;33m\u001b[0m\u001b[0m\n\u001b[0;32m   1443\u001b[0m             \u001b[1;34m\"Use a.empty, a.bool(), a.item(), a.any() or a.all().\"\u001b[0m\u001b[1;33m\u001b[0m\u001b[1;33m\u001b[0m\u001b[0m\n",
      "\u001b[1;31mValueError\u001b[0m: The truth value of a Series is ambiguous. Use a.empty, a.bool(), a.item(), a.any() or a.all()."
     ]
    }
   ],
   "source": [
    "i=0\n",
    "x=0\n",
    "for c in range(1700):\n",
    "    if tap['Magnitude'][i:y]>30000:\n",
    "         globals()[\"mag\"+str(x)] = 1\n",
    "         x=x+1\n",
    "    \n",
    "    i=i+1"
   ]
  },
  {
   "cell_type": "code",
   "execution_count": 767,
   "metadata": {},
   "outputs": [
    {
     "data": {
      "text/html": [
       "<div>\n",
       "<style scoped>\n",
       "    .dataframe tbody tr th:only-of-type {\n",
       "        vertical-align: middle;\n",
       "    }\n",
       "\n",
       "    .dataframe tbody tr th {\n",
       "        vertical-align: top;\n",
       "    }\n",
       "\n",
       "    .dataframe thead th {\n",
       "        text-align: right;\n",
       "    }\n",
       "</style>\n",
       "<table border=\"1\" class=\"dataframe\">\n",
       "  <thead>\n",
       "    <tr style=\"text-align: right;\">\n",
       "      <th></th>\n",
       "      <th>mean</th>\n",
       "      <th>std</th>\n",
       "    </tr>\n",
       "  </thead>\n",
       "  <tbody>\n",
       "    <tr>\n",
       "      <th>0</th>\n",
       "      <td>14736.989469</td>\n",
       "      <td>3611.211416</td>\n",
       "    </tr>\n",
       "    <tr>\n",
       "      <th>1</th>\n",
       "      <td>14964.168221</td>\n",
       "      <td>4231.296267</td>\n",
       "    </tr>\n",
       "    <tr>\n",
       "      <th>2</th>\n",
       "      <td>14908.629502</td>\n",
       "      <td>4361.139403</td>\n",
       "    </tr>\n",
       "    <tr>\n",
       "      <th>3</th>\n",
       "      <td>15266.028084</td>\n",
       "      <td>5428.096035</td>\n",
       "    </tr>\n",
       "    <tr>\n",
       "      <th>4</th>\n",
       "      <td>15209.401883</td>\n",
       "      <td>4969.138028</td>\n",
       "    </tr>\n",
       "    <tr>\n",
       "      <th>5</th>\n",
       "      <td>15436.655846</td>\n",
       "      <td>5850.245766</td>\n",
       "    </tr>\n",
       "    <tr>\n",
       "      <th>6</th>\n",
       "      <td>15338.383882</td>\n",
       "      <td>5616.915842</td>\n",
       "    </tr>\n",
       "    <tr>\n",
       "      <th>7</th>\n",
       "      <td>15746.010493</td>\n",
       "      <td>6468.045109</td>\n",
       "    </tr>\n",
       "    <tr>\n",
       "      <th>8</th>\n",
       "      <td>15166.009091</td>\n",
       "      <td>4950.457203</td>\n",
       "    </tr>\n",
       "    <tr>\n",
       "      <th>9</th>\n",
       "      <td>15355.132122</td>\n",
       "      <td>5630.452111</td>\n",
       "    </tr>\n",
       "    <tr>\n",
       "      <th>10</th>\n",
       "      <td>15469.799454</td>\n",
       "      <td>5541.181073</td>\n",
       "    </tr>\n",
       "    <tr>\n",
       "      <th>11</th>\n",
       "      <td>15729.081732</td>\n",
       "      <td>6442.078289</td>\n",
       "    </tr>\n",
       "    <tr>\n",
       "      <th>12</th>\n",
       "      <td>15259.392909</td>\n",
       "      <td>5038.377799</td>\n",
       "    </tr>\n",
       "    <tr>\n",
       "      <th>13</th>\n",
       "      <td>15547.581879</td>\n",
       "      <td>6199.290253</td>\n",
       "    </tr>\n",
       "    <tr>\n",
       "      <th>14</th>\n",
       "      <td>15675.431666</td>\n",
       "      <td>6297.583506</td>\n",
       "    </tr>\n",
       "    <tr>\n",
       "      <th>15</th>\n",
       "      <td>15092.087777</td>\n",
       "      <td>5128.968311</td>\n",
       "    </tr>\n",
       "    <tr>\n",
       "      <th>16</th>\n",
       "      <td>14951.997094</td>\n",
       "      <td>4544.107269</td>\n",
       "    </tr>\n",
       "    <tr>\n",
       "      <th>17</th>\n",
       "      <td>15689.855005</td>\n",
       "      <td>6517.025641</td>\n",
       "    </tr>\n",
       "    <tr>\n",
       "      <th>18</th>\n",
       "      <td>15540.117489</td>\n",
       "      <td>6480.388415</td>\n",
       "    </tr>\n",
       "    <tr>\n",
       "      <th>19</th>\n",
       "      <td>15579.521358</td>\n",
       "      <td>6029.845740</td>\n",
       "    </tr>\n",
       "    <tr>\n",
       "      <th>20</th>\n",
       "      <td>15518.624177</td>\n",
       "      <td>6264.455209</td>\n",
       "    </tr>\n",
       "    <tr>\n",
       "      <th>21</th>\n",
       "      <td>15068.597110</td>\n",
       "      <td>4892.187648</td>\n",
       "    </tr>\n",
       "    <tr>\n",
       "      <th>22</th>\n",
       "      <td>15611.817033</td>\n",
       "      <td>6625.054390</td>\n",
       "    </tr>\n",
       "    <tr>\n",
       "      <th>23</th>\n",
       "      <td>15426.106784</td>\n",
       "      <td>5617.978239</td>\n",
       "    </tr>\n",
       "    <tr>\n",
       "      <th>24</th>\n",
       "      <td>15604.692142</td>\n",
       "      <td>6283.602378</td>\n",
       "    </tr>\n",
       "    <tr>\n",
       "      <th>25</th>\n",
       "      <td>15373.993966</td>\n",
       "      <td>5451.034256</td>\n",
       "    </tr>\n",
       "    <tr>\n",
       "      <th>26</th>\n",
       "      <td>15467.011624</td>\n",
       "      <td>5525.804109</td>\n",
       "    </tr>\n",
       "    <tr>\n",
       "      <th>27</th>\n",
       "      <td>15370.181511</td>\n",
       "      <td>4700.707807</td>\n",
       "    </tr>\n",
       "    <tr>\n",
       "      <th>28</th>\n",
       "      <td>15632.995388</td>\n",
       "      <td>6049.237180</td>\n",
       "    </tr>\n",
       "    <tr>\n",
       "      <th>29</th>\n",
       "      <td>15515.057962</td>\n",
       "      <td>6697.177730</td>\n",
       "    </tr>\n",
       "    <tr>\n",
       "      <th>30</th>\n",
       "      <td>15217.583223</td>\n",
       "      <td>5280.655572</td>\n",
       "    </tr>\n",
       "    <tr>\n",
       "      <th>31</th>\n",
       "      <td>15745.333114</td>\n",
       "      <td>6962.404607</td>\n",
       "    </tr>\n",
       "    <tr>\n",
       "      <th>32</th>\n",
       "      <td>15353.162792</td>\n",
       "      <td>5420.764400</td>\n",
       "    </tr>\n",
       "    <tr>\n",
       "      <th>33</th>\n",
       "      <td>15077.938547</td>\n",
       "      <td>4668.751605</td>\n",
       "    </tr>\n",
       "    <tr>\n",
       "      <th>34</th>\n",
       "      <td>15609.337364</td>\n",
       "      <td>5628.155992</td>\n",
       "    </tr>\n",
       "    <tr>\n",
       "      <th>35</th>\n",
       "      <td>15940.540776</td>\n",
       "      <td>6888.528162</td>\n",
       "    </tr>\n",
       "    <tr>\n",
       "      <th>36</th>\n",
       "      <td>15643.542673</td>\n",
       "      <td>6003.573555</td>\n",
       "    </tr>\n",
       "    <tr>\n",
       "      <th>37</th>\n",
       "      <td>15519.940713</td>\n",
       "      <td>6127.107278</td>\n",
       "    </tr>\n",
       "    <tr>\n",
       "      <th>38</th>\n",
       "      <td>15216.939753</td>\n",
       "      <td>6034.307543</td>\n",
       "    </tr>\n",
       "    <tr>\n",
       "      <th>39</th>\n",
       "      <td>15338.098680</td>\n",
       "      <td>5408.697129</td>\n",
       "    </tr>\n",
       "    <tr>\n",
       "      <th>40</th>\n",
       "      <td>15386.263341</td>\n",
       "      <td>5799.144181</td>\n",
       "    </tr>\n",
       "    <tr>\n",
       "      <th>41</th>\n",
       "      <td>15561.068647</td>\n",
       "      <td>6399.193627</td>\n",
       "    </tr>\n",
       "    <tr>\n",
       "      <th>42</th>\n",
       "      <td>15470.909561</td>\n",
       "      <td>5858.196447</td>\n",
       "    </tr>\n",
       "    <tr>\n",
       "      <th>43</th>\n",
       "      <td>15084.515172</td>\n",
       "      <td>5326.738758</td>\n",
       "    </tr>\n",
       "    <tr>\n",
       "      <th>44</th>\n",
       "      <td>15210.426513</td>\n",
       "      <td>5934.634484</td>\n",
       "    </tr>\n",
       "    <tr>\n",
       "      <th>45</th>\n",
       "      <td>15310.373788</td>\n",
       "      <td>5912.881088</td>\n",
       "    </tr>\n",
       "    <tr>\n",
       "      <th>46</th>\n",
       "      <td>15856.819416</td>\n",
       "      <td>6943.928439</td>\n",
       "    </tr>\n",
       "    <tr>\n",
       "      <th>47</th>\n",
       "      <td>15713.961744</td>\n",
       "      <td>6691.308902</td>\n",
       "    </tr>\n",
       "    <tr>\n",
       "      <th>48</th>\n",
       "      <td>15717.344346</td>\n",
       "      <td>6372.623591</td>\n",
       "    </tr>\n",
       "    <tr>\n",
       "      <th>49</th>\n",
       "      <td>16071.646450</td>\n",
       "      <td>6912.156794</td>\n",
       "    </tr>\n",
       "    <tr>\n",
       "      <th>50</th>\n",
       "      <td>15395.892468</td>\n",
       "      <td>5437.035911</td>\n",
       "    </tr>\n",
       "    <tr>\n",
       "      <th>51</th>\n",
       "      <td>15512.130653</td>\n",
       "      <td>5425.005489</td>\n",
       "    </tr>\n",
       "  </tbody>\n",
       "</table>\n",
       "</div>"
      ],
      "text/plain": [
       "            mean          std\n",
       "0   14736.989469  3611.211416\n",
       "1   14964.168221  4231.296267\n",
       "2   14908.629502  4361.139403\n",
       "3   15266.028084  5428.096035\n",
       "4   15209.401883  4969.138028\n",
       "5   15436.655846  5850.245766\n",
       "6   15338.383882  5616.915842\n",
       "7   15746.010493  6468.045109\n",
       "8   15166.009091  4950.457203\n",
       "9   15355.132122  5630.452111\n",
       "10  15469.799454  5541.181073\n",
       "11  15729.081732  6442.078289\n",
       "12  15259.392909  5038.377799\n",
       "13  15547.581879  6199.290253\n",
       "14  15675.431666  6297.583506\n",
       "15  15092.087777  5128.968311\n",
       "16  14951.997094  4544.107269\n",
       "17  15689.855005  6517.025641\n",
       "18  15540.117489  6480.388415\n",
       "19  15579.521358  6029.845740\n",
       "20  15518.624177  6264.455209\n",
       "21  15068.597110  4892.187648\n",
       "22  15611.817033  6625.054390\n",
       "23  15426.106784  5617.978239\n",
       "24  15604.692142  6283.602378\n",
       "25  15373.993966  5451.034256\n",
       "26  15467.011624  5525.804109\n",
       "27  15370.181511  4700.707807\n",
       "28  15632.995388  6049.237180\n",
       "29  15515.057962  6697.177730\n",
       "30  15217.583223  5280.655572\n",
       "31  15745.333114  6962.404607\n",
       "32  15353.162792  5420.764400\n",
       "33  15077.938547  4668.751605\n",
       "34  15609.337364  5628.155992\n",
       "35  15940.540776  6888.528162\n",
       "36  15643.542673  6003.573555\n",
       "37  15519.940713  6127.107278\n",
       "38  15216.939753  6034.307543\n",
       "39  15338.098680  5408.697129\n",
       "40  15386.263341  5799.144181\n",
       "41  15561.068647  6399.193627\n",
       "42  15470.909561  5858.196447\n",
       "43  15084.515172  5326.738758\n",
       "44  15210.426513  5934.634484\n",
       "45  15310.373788  5912.881088\n",
       "46  15856.819416  6943.928439\n",
       "47  15713.961744  6691.308902\n",
       "48  15717.344346  6372.623591\n",
       "49  16071.646450  6912.156794\n",
       "50  15395.892468  5437.035911\n",
       "51  15512.130653  5425.005489"
      ]
     },
     "execution_count": 767,
     "metadata": {},
     "output_type": "execute_result"
    }
   ],
   "source": [
    "final"
   ]
  },
  {
   "cell_type": "code",
   "execution_count": 794,
   "metadata": {},
   "outputs": [],
   "source": [
    "x=0\n",
    "count=0\n",
    "countmag = 0\n",
    "for c in range(tap):\n",
    "    if (count<335):\n",
    "        count= count + 1\n",
    "        if (tap['Magnitude'][c]>30000):\n",
    "            countmag = countmag+1\n",
    "    else:\n",
    "        globals()[\"mag\"+str(x)] = countmag\n",
    "        count = 0      \n",
    "        x=x+1\n",
    "        countmag=0"
   ]
  },
  {
   "cell_type": "code",
   "execution_count": 793,
   "metadata": {},
   "outputs": [],
   "source": [
    "i=0\n",
    "x=0\n",
    "y=334\n",
    "final = pd.DataFrame(columns=['mean','std'])\n",
    "for c in range(52):        \n",
    "    final.loc[x] = [globals()[\"mean\"+str(x)][\"Magnitude\"]] + [globals()[\"std\"+str(x)][\"Magnitude\"]]\n",
    "    x=x+1"
   ]
  },
  {
   "cell_type": "code",
   "execution_count": 799,
   "metadata": {},
   "outputs": [
    {
     "data": {
      "text/plain": [
       "14"
      ]
     },
     "execution_count": 799,
     "metadata": {},
     "output_type": "execute_result"
    }
   ],
   "source": [
    "mag49"
   ]
  },
  {
   "cell_type": "code",
   "execution_count": 460,
   "metadata": {},
   "outputs": [],
   "source": [
    "import pandas as pd\n",
    "#csv file name to be read in \n",
    "in_csv = 'C:\\\\Users\\\\Dan\\\\Desktop\\\\TUD4thyear\\\\fyp\\\\6050\\\\dataset\\\\csv\\\\tap50mag.csv'\n",
    "#get the number of lines of the csv file to be read\n",
    "number_lines = sum(1 for row in (open(in_csv)))\n",
    "#size of rows of data to write to the csv, \n",
    "#you can change the row size according to your need\n",
    "rowsize = 335\n",
    "#start looping through data writing it to a new file for each set\n",
    "for i in range(1,number_lines,rowsize):\n",
    "    df = pd.read_csv(in_csv,\n",
    "        header=None,\n",
    "        nrows = rowsize,#number of rows to read at each loop\n",
    "        skiprows = i)#skip rows that have been read\n",
    "#csv to write data to a new file with indexed name. input_1.csv etc.\n",
    "    out_csv = 'tap' + str(i) + '.csv'\n",
    "    df.to_csv(out_csv,\n",
    "        index=False,\n",
    "        header=['Magnitude'],\n",
    "        mode='a',#append data to csv file\n",
    "        chunksize=rowsize)#size of data to append for each loop"
   ]
  },
  {
   "cell_type": "code",
   "execution_count": null,
   "metadata": {},
   "outputs": [],
   "source": []
  },
  {
   "cell_type": "code",
   "execution_count": 403,
   "metadata": {},
   "outputs": [],
   "source": [
    "tap1 = pd.read_csv('C:\\\\Users\\\\Dan\\\\Desktop\\\\TUD4thyear\\\\fyp\\\\dataanalysis\\\\tap1.csv')\n",
    "tap2 = pd.read_csv('C:\\\\Users\\\\Dan\\\\Desktop\\\\TUD4thyear\\\\fyp\\\\dataanalysis\\\\tap336.csv')\n",
    "tap3 = pd.read_csv('C:\\\\Users\\\\Dan\\\\Desktop\\\\TUD4thyear\\\\fyp\\\\dataanalysis\\\\tap671.csv')\n",
    "tap4 = pd.read_csv('C:\\\\Users\\\\Dan\\\\Desktop\\\\TUD4thyear\\\\fyp\\\\dataanalysis\\\\tap1006.csv')\n",
    "tap5 = pd.read_csv('C:\\\\Users\\\\Dan\\\\Desktop\\\\TUD4thyear\\\\fyp\\\\dataanalysis\\\\tap1341.csv')"
   ]
  },
  {
   "cell_type": "code",
   "execution_count": null,
   "metadata": {},
   "outputs": [],
   "source": [
    "tap3.plot()"
   ]
  },
  {
   "cell_type": "code",
   "execution_count": 735,
   "metadata": {},
   "outputs": [
    {
     "data": {
      "text/html": [
       "<div>\n",
       "<style scoped>\n",
       "    .dataframe tbody tr th:only-of-type {\n",
       "        vertical-align: middle;\n",
       "    }\n",
       "\n",
       "    .dataframe tbody tr th {\n",
       "        vertical-align: top;\n",
       "    }\n",
       "\n",
       "    .dataframe thead th {\n",
       "        text-align: right;\n",
       "    }\n",
       "</style>\n",
       "<table border=\"1\" class=\"dataframe\">\n",
       "  <thead>\n",
       "    <tr style=\"text-align: right;\">\n",
       "      <th></th>\n",
       "      <th>Magnitude</th>\n",
       "    </tr>\n",
       "  </thead>\n",
       "  <tbody>\n",
       "    <tr>\n",
       "      <th>0</th>\n",
       "      <td>14402.291484</td>\n",
       "    </tr>\n",
       "    <tr>\n",
       "      <th>1</th>\n",
       "      <td>14428.186858</td>\n",
       "    </tr>\n",
       "    <tr>\n",
       "      <th>2</th>\n",
       "      <td>15955.812985</td>\n",
       "    </tr>\n",
       "    <tr>\n",
       "      <th>3</th>\n",
       "      <td>14804.007025</td>\n",
       "    </tr>\n",
       "    <tr>\n",
       "      <th>4</th>\n",
       "      <td>14790.826887</td>\n",
       "    </tr>\n",
       "    <tr>\n",
       "      <th>...</th>\n",
       "      <td>...</td>\n",
       "    </tr>\n",
       "    <tr>\n",
       "      <th>330</th>\n",
       "      <td>14249.350301</td>\n",
       "    </tr>\n",
       "    <tr>\n",
       "      <th>331</th>\n",
       "      <td>14040.488311</td>\n",
       "    </tr>\n",
       "    <tr>\n",
       "      <th>332</th>\n",
       "      <td>13640.487381</td>\n",
       "    </tr>\n",
       "    <tr>\n",
       "      <th>333</th>\n",
       "      <td>14112.456342</td>\n",
       "    </tr>\n",
       "    <tr>\n",
       "      <th>334</th>\n",
       "      <td>14007.755566</td>\n",
       "    </tr>\n",
       "  </tbody>\n",
       "</table>\n",
       "<p>335 rows × 1 columns</p>\n",
       "</div>"
      ],
      "text/plain": [
       "        Magnitude\n",
       "0    14402.291484\n",
       "1    14428.186858\n",
       "2    15955.812985\n",
       "3    14804.007025\n",
       "4    14790.826887\n",
       "..            ...\n",
       "330  14249.350301\n",
       "331  14040.488311\n",
       "332  13640.487381\n",
       "333  14112.456342\n",
       "334  14007.755566\n",
       "\n",
       "[335 rows x 1 columns]"
      ]
     },
     "execution_count": 735,
     "metadata": {},
     "output_type": "execute_result"
    }
   ],
   "source": [
    "tap4"
   ]
  },
  {
   "cell_type": "code",
   "execution_count": 467,
   "metadata": {},
   "outputs": [
    {
     "data": {
      "text/plain": [
       "Magnitude    16011.167682\n",
       "dtype: float64"
      ]
     },
     "execution_count": 467,
     "metadata": {},
     "output_type": "execute_result"
    }
   ],
   "source": []
  },
  {
   "cell_type": "code",
   "execution_count": 434,
   "metadata": {},
   "outputs": [
    {
     "ename": "TypeError",
     "evalue": "can only concatenate str (not \"int\") to str",
     "output_type": "error",
     "traceback": [
      "\u001b[1;31m---------------------------------------------------------------------------\u001b[0m",
      "\u001b[1;31mTypeError\u001b[0m                                 Traceback (most recent call last)",
      "\u001b[1;32m<ipython-input-434-ee2168b54b2e>\u001b[0m in \u001b[0;36m<module>\u001b[1;34m\u001b[0m\n\u001b[0;32m     15\u001b[0m         skiprows = i)#skip rows that have been read\n\u001b[0;32m     16\u001b[0m \u001b[1;31m#csv to write data to a new file with indexed name. input_1.csv etc.\u001b[0m\u001b[1;33m\u001b[0m\u001b[1;33m\u001b[0m\u001b[1;33m\u001b[0m\u001b[0m\n\u001b[1;32m---> 17\u001b[1;33m     \u001b[0mout_csv\u001b[0m \u001b[1;33m=\u001b[0m \u001b[1;34m'shuf'\u001b[0m \u001b[1;33m+\u001b[0m \u001b[0mx\u001b[0m\u001b[1;33m+\u001b[0m\u001b[1;36m1\u001b[0m \u001b[1;33m+\u001b[0m \u001b[1;34m'.csv'\u001b[0m\u001b[1;33m\u001b[0m\u001b[1;33m\u001b[0m\u001b[0m\n\u001b[0m\u001b[0;32m     18\u001b[0m     df.to_csv(out_csv,\n\u001b[0;32m     19\u001b[0m         \u001b[0mindex\u001b[0m\u001b[1;33m=\u001b[0m\u001b[1;32mFalse\u001b[0m\u001b[1;33m,\u001b[0m\u001b[1;33m\u001b[0m\u001b[1;33m\u001b[0m\u001b[0m\n",
      "\u001b[1;31mTypeError\u001b[0m: can only concatenate str (not \"int\") to str"
     ]
    }
   ],
   "source": [
    "import pandas as pd\n",
    "#csv file name to be read in \n",
    "in_csv = 'C:\\\\Users\\\\Dan\\\\Desktop\\\\TUD4thyear\\\\fyp\\\\6050\\\\shuf(2).csv'\n",
    "#get the number of lines of the csv file to be read\n",
    "number_lines = sum(1 for row in (open(in_csv)))\n",
    "#size of rows of data to write to the csv, \n",
    "#you can change the row size according to your need\n",
    "rowsize = 335\n",
    "#start looping through data writing it to a new file for each set\n",
    "for i in range(1,number_lines,rowsize):\n",
    "    df = pd.read_csv(in_csv,\n",
    "        header=None,\n",
    "        nrows = rowsize,#number of rows to read at each loop\n",
    "        skiprows = i)#skip rows that have been read\n",
    "#csv to write data to a new file with indexed name. input_1.csv etc.\n",
    "    out_csv = 'shuf' + str(i) + '.csv'\n",
    "    df.to_csv(out_csv,\n",
    "        index=False,\n",
    "        header=['Magnitude'],\n",
    "        mode='a',#append data to csv file\n",
    "        chunksize=rowsize)#size of data to append for each loop"
   ]
  },
  {
   "cell_type": "code",
   "execution_count": 407,
   "metadata": {},
   "outputs": [],
   "source": [
    "shuf1 = pd.read_csv('C:\\\\Users\\\\Dan\\\\Desktop\\\\TUD4thyear\\\\fyp\\\\dataanalysis\\\\shuf1.csv')\n",
    "shuf2 = pd.read_csv('C:\\\\Users\\\\Dan\\\\Desktop\\\\TUD4thyear\\\\fyp\\\\dataanalysis\\\\shuf336.csv')\n",
    "shuf3 = pd.read_csv('C:\\\\Users\\\\Dan\\\\Desktop\\\\TUD4thyear\\\\fyp\\\\dataanalysis\\\\shuf671.csv')\n",
    "shuf4 = pd.read_csv('C:\\\\Users\\\\Dan\\\\Desktop\\\\TUD4thyear\\\\fyp\\\\dataanalysis\\\\shuf1006.csv')\n",
    "shuf5 = pd.read_csv('C:\\\\Users\\\\Dan\\\\Desktop\\\\TUD4thyear\\\\fyp\\\\dataanalysis\\\\shuf1341.csv')"
   ]
  },
  {
   "cell_type": "code",
   "execution_count": 408,
   "metadata": {},
   "outputs": [
    {
     "data": {
      "text/plain": [
       "<AxesSubplot:>"
      ]
     },
     "execution_count": 408,
     "metadata": {},
     "output_type": "execute_result"
    },
    {
     "data": {
      "image/png": "[encoded data removed]",
      "text/plain": [
       "<Figure size 432x288 with 1 Axes>"
      ]
     },
     "metadata": {
      "needs_background": "light"
     },
     "output_type": "display_data"
    }
   ],
   "source": [
    "shuf1.plot()"
   ]
  },
  {
   "cell_type": "code",
   "execution_count": 409,
   "metadata": {},
   "outputs": [
    {
     "data": {
      "text/plain": [
       "<AxesSubplot:>"
      ]
     },
     "execution_count": 409,
     "metadata": {},
     "output_type": "execute_result"
    },
    {
     "data": {
      "image/png": "[encoded data removed]",
      "text/plain": [
       "<Figure size 432x288 with 1 Axes>"
      ]
     },
     "metadata": {
      "needs_background": "light"
     },
     "output_type": "display_data"
    }
   ],
   "source": [
    "shuf2.plot()"
   ]
  },
  {
   "cell_type": "code",
   "execution_count": 410,
   "metadata": {},
   "outputs": [
    {
     "data": {
      "text/plain": [
       "<AxesSubplot:>"
      ]
     },
     "execution_count": 410,
     "metadata": {},
     "output_type": "execute_result"
    },
    {
     "data": {
      "image/png": "[encoded data removed]",
      "text/plain": [
       "<Figure size 432x288 with 1 Axes>"
      ]
     },
     "metadata": {
      "needs_background": "light"
     },
     "output_type": "display_data"
    }
   ],
   "source": [
    "shuf3.plot()"
   ]
  },
  {
   "cell_type": "code",
   "execution_count": 411,
   "metadata": {},
   "outputs": [
    {
     "data": {
      "text/html": [
       "<div>\n",
       "<style scoped>\n",
       "    .dataframe tbody tr th:only-of-type {\n",
       "        vertical-align: middle;\n",
       "    }\n",
       "\n",
       "    .dataframe tbody tr th {\n",
       "        vertical-align: top;\n",
       "    }\n",
       "\n",
       "    .dataframe thead th {\n",
       "        text-align: right;\n",
       "    }\n",
       "</style>\n",
       "<table border=\"1\" class=\"dataframe\">\n",
       "  <thead>\n",
       "    <tr style=\"text-align: right;\">\n",
       "      <th></th>\n",
       "      <th>Magnitude</th>\n",
       "    </tr>\n",
       "  </thead>\n",
       "  <tbody>\n",
       "    <tr>\n",
       "      <th>0</th>\n",
       "      <td>14691.673832</td>\n",
       "    </tr>\n",
       "    <tr>\n",
       "      <th>1</th>\n",
       "      <td>13280.218673</td>\n",
       "    </tr>\n",
       "    <tr>\n",
       "      <th>2</th>\n",
       "      <td>13722.736170</td>\n",
       "    </tr>\n",
       "    <tr>\n",
       "      <th>3</th>\n",
       "      <td>14073.895836</td>\n",
       "    </tr>\n",
       "    <tr>\n",
       "      <th>4</th>\n",
       "      <td>15957.494540</td>\n",
       "    </tr>\n",
       "    <tr>\n",
       "      <th>...</th>\n",
       "      <td>...</td>\n",
       "    </tr>\n",
       "    <tr>\n",
       "      <th>330</th>\n",
       "      <td>14510.128876</td>\n",
       "    </tr>\n",
       "    <tr>\n",
       "      <th>331</th>\n",
       "      <td>13957.717292</td>\n",
       "    </tr>\n",
       "    <tr>\n",
       "      <th>332</th>\n",
       "      <td>14497.883432</td>\n",
       "    </tr>\n",
       "    <tr>\n",
       "      <th>333</th>\n",
       "      <td>14212.640571</td>\n",
       "    </tr>\n",
       "    <tr>\n",
       "      <th>334</th>\n",
       "      <td>13611.741402</td>\n",
       "    </tr>\n",
       "  </tbody>\n",
       "</table>\n",
       "<p>335 rows × 1 columns</p>\n",
       "</div>"
      ],
      "text/plain": [
       "        Magnitude\n",
       "0    14691.673832\n",
       "1    13280.218673\n",
       "2    13722.736170\n",
       "3    14073.895836\n",
       "4    15957.494540\n",
       "..            ...\n",
       "330  14510.128876\n",
       "331  13957.717292\n",
       "332  14497.883432\n",
       "333  14212.640571\n",
       "334  13611.741402\n",
       "\n",
       "[335 rows x 1 columns]"
      ]
     },
     "execution_count": 411,
     "metadata": {},
     "output_type": "execute_result"
    }
   ],
   "source": [
    "shuf2"
   ]
  },
  {
   "cell_type": "code",
   "execution_count": 432,
   "metadata": {},
   "outputs": [],
   "source": [
    "i=1\n",
    "for n in range(5):\n",
    "    globals()[\"mean\"+str(i)] = globals()[\"shuf\"+str(i)]['Magnitude'].mean()\n",
    "    globals()[\"std\"+str(i)] = globals()[\"shuf\"+str(i)]['Magnitude'].std()\n",
    "    \n",
    "    "
   ]
  },
  {
   "cell_type": "code",
   "execution_count": 413,
   "metadata": {},
   "outputs": [
    {
     "data": {
      "text/plain": [
       "266976.3554174789"
      ]
     },
     "execution_count": 413,
     "metadata": {},
     "output_type": "execute_result"
    }
   ],
   "source": [
    "np.linalg.norm(shuf4)"
   ]
  },
  {
   "cell_type": "code",
   "execution_count": 446,
   "metadata": {},
   "outputs": [],
   "source": [
    "meand=[mean1,mean2,mean3,mean4]\n",
    "stdd=[std1,std2,std3,std4]"
   ]
  },
  {
   "cell_type": "code",
   "execution_count": 447,
   "metadata": {},
   "outputs": [],
   "source": [
    "meandf = pd.DataFrame(meand,columns=[\"mean\"])\n",
    "stdf = pd.DataFrame(stdd,columns=[\"std\"])"
   ]
  },
  {
   "cell_type": "code",
   "execution_count": 450,
   "metadata": {},
   "outputs": [
    {
     "data": {
      "text/html": [
       "<div>\n",
       "<style scoped>\n",
       "    .dataframe tbody tr th:only-of-type {\n",
       "        vertical-align: middle;\n",
       "    }\n",
       "\n",
       "    .dataframe tbody tr th {\n",
       "        vertical-align: top;\n",
       "    }\n",
       "\n",
       "    .dataframe thead th {\n",
       "        text-align: right;\n",
       "    }\n",
       "</style>\n",
       "<table border=\"1\" class=\"dataframe\">\n",
       "  <thead>\n",
       "    <tr style=\"text-align: right;\">\n",
       "      <th></th>\n",
       "      <th>mean</th>\n",
       "      <th>std</th>\n",
       "    </tr>\n",
       "  </thead>\n",
       "  <tbody>\n",
       "    <tr>\n",
       "      <th>0</th>\n",
       "      <td>13930.719287</td>\n",
       "      <td>1712.463683</td>\n",
       "    </tr>\n",
       "    <tr>\n",
       "      <th>1</th>\n",
       "      <td>14964.998303</td>\n",
       "      <td>3257.257642</td>\n",
       "    </tr>\n",
       "    <tr>\n",
       "      <th>2</th>\n",
       "      <td>14585.514342</td>\n",
       "      <td>2620.747034</td>\n",
       "    </tr>\n",
       "    <tr>\n",
       "      <th>3</th>\n",
       "      <td>14465.343222</td>\n",
       "      <td>1878.743832</td>\n",
       "    </tr>\n",
       "  </tbody>\n",
       "</table>\n",
       "</div>"
      ],
      "text/plain": [
       "           mean          std\n",
       "0  13930.719287  1712.463683\n",
       "1  14964.998303  3257.257642\n",
       "2  14585.514342  2620.747034\n",
       "3  14465.343222  1878.743832"
      ]
     },
     "execution_count": 450,
     "metadata": {},
     "output_type": "execute_result"
    }
   ],
   "source": [
    "meandf.join(stdf, lsuffix='_caller', rsuffix='_other')"
   ]
  },
  {
   "cell_type": "code",
   "execution_count": 431,
   "metadata": {},
   "outputs": [
    {
     "data": {
      "text/plain": [
       "[<matplotlib.lines.Line2D at 0x1e6e127b7c0>]"
      ]
     },
     "execution_count": 431,
     "metadata": {},
     "output_type": "execute_result"
    },
    {
     "data": {
      "image/png": "[encoded data removed]",
      "text/plain": [
       "<Figure size 432x288 with 1 Axes>"
      ]
     },
     "metadata": {
      "needs_background": "light"
     },
     "output_type": "display_data"
    }
   ],
   "source": []
  },
  {
   "cell_type": "code",
   "execution_count": 428,
   "metadata": {},
   "outputs": [],
   "source": []
  },
  {
   "cell_type": "code",
   "execution_count": 429,
   "metadata": {},
   "outputs": [
    {
     "data": {
      "text/plain": [
       "[<matplotlib.lines.Line2D at 0x1e6e121dbe0>]"
      ]
     },
     "execution_count": 429,
     "metadata": {},
     "output_type": "execute_result"
    },
    {
     "data": {
      "image/png": "[encoded data removed]",
      "text/plain": [
       "<Figure size 432x288 with 1 Axes>"
      ]
     },
     "metadata": {
      "needs_background": "light"
     },
     "output_type": "display_data"
    }
   ],
   "source": []
  },
  {
   "cell_type": "code",
   "execution_count": null,
   "metadata": {},
   "outputs": [],
   "source": []
  }
 ],
 "metadata": {
  "kernelspec": {
   "display_name": "Python 3",
   "language": "python",
   "name": "python3"
  },
  "language_info": {
   "codemirror_mode": {
    "name": "ipython",
    "version": 3
   },
   "file_extension": ".py",
   "mimetype": "text/x-python",
   "name": "python",
   "nbconvert_exporter": "python",
   "pygments_lexer": "ipython3",
   "version": "3.8.3"
  }
 },
 "nbformat": 4,
 "nbformat_minor": 5
}
